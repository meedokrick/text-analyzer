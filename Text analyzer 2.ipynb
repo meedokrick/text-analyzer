{
 "cells": [
  {
   "cell_type": "code",
   "execution_count": 14,
   "id": "4305de7c",
   "metadata": {},
   "outputs": [
    {
     "name": "stdout",
     "output_type": "stream",
     "text": [
      "Heavy\n",
      "sketch\n",
      "body\n",
      "is\n",
      "heavy,\n",
      "prison\n",
      "glue,\n",
      "fashion\n",
      "guilt,\n",
      "turtle\n",
      "print\n",
      "fashionista.\n",
      "Garage\n",
      "man\n",
      "donates\n",
      "heavy\n",
      "amount\n",
      "of\n",
      "music\n",
      "gesture.\n",
      "last line\n",
      "r+\n",
      "file2.txt\n"
     ]
    }
   ],
   "source": [
    "with open('givenwords.txt', 'r') as file1:\n",
    "    with open('file2.txt', 'r+') as file2:\n",
    "        content = file1.read()\n",
    "        splitword = content.replace(\" \", \"\\n\")\n",
    "        for word in splitword:\n",
    "            file2.write(word)\n",
    "        file2.write(\"\\nlast line\")\n",
    "        \n",
    "        # this block does same thing with the block commented\n",
    "        # comment this block to use the commented block\n",
    "        \n",
    "        file2.truncate()    #removes any other additional line that comes after this\n",
    "        file2.seek(0,0)\n",
    "        \n",
    "        print(file2.read())\n",
    "        \n",
    "        print(file2.mode)   #prints the mode the file was opened with\n",
    "        print(file2.name)   #prints name of file\n",
    "        \n",
    "# with open('file2.txt', 'r') as file2:\n",
    "#     content2 = file2.read()\n",
    "#     print(content2)"
   ]
  },
  {
   "cell_type": "code",
   "execution_count": 10,
   "id": "cc00115d",
   "metadata": {},
   "outputs": [
    {
     "name": "stdout",
     "output_type": "stream",
     "text": [
      "Heavy\n",
      "sketch\n",
      "body\n",
      "is\n",
      "heavy,\n",
      "prison\n",
      "glue,\n",
      "fashion\n",
      "guilt,\n",
      "turtle\n",
      "print\n",
      "fashionista.\n",
      "Garage\n",
      "man\n",
      "donates\n",
      "heavy\n",
      "amount\n",
      "of\n",
      "music\n",
      "gesture.\n",
      "last line\n",
      "This was added using append\n",
      "This was also addeed using append\n",
      "\n"
     ]
    }
   ],
   "source": [
    "with open('file2.txt', 'a+') as file2:\n",
    "    file2.write(\"\\nThis was added using append\\n\")\n",
    "    file2.write(\"This was also addeed using append\\n\")\n",
    "    \n",
    "    file2.truncate()\n",
    "    file2.seek(0,0)\n",
    "    \n",
    "    print(file2.read())\n",
    "\n",
    "# with open('file2.txt', 'r') as file2:\n",
    "#     content = file2.read()\n",
    "#     print(content)"
   ]
  },
  {
   "cell_type": "code",
   "execution_count": null,
   "id": "1bf8818b",
   "metadata": {},
   "outputs": [],
   "source": []
  },
  {
   "cell_type": "code",
   "execution_count": null,
   "id": "9905a877",
   "metadata": {},
   "outputs": [],
   "source": []
  }
 ],
 "metadata": {
  "kernelspec": {
   "display_name": "Python 3 (ipykernel)",
   "language": "python",
   "name": "python3"
  },
  "language_info": {
   "codemirror_mode": {
    "name": "ipython",
    "version": 3
   },
   "file_extension": ".py",
   "mimetype": "text/x-python",
   "name": "python",
   "nbconvert_exporter": "python",
   "pygments_lexer": "ipython3",
   "version": "3.11.3"
  }
 },
 "nbformat": 4,
 "nbformat_minor": 5
}
