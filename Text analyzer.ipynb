{
 "cells": [
  {
   "cell_type": "code",
   "execution_count": 47,
   "id": "42d652ae",
   "metadata": {},
   "outputs": [
    {
     "name": "stdout",
     "output_type": "stream",
     "text": [
      "Heavy sketch body is heavy, prison glue, fashion guilt, turtle print fashionista. Garage man donates heavy amount of music gesture.\n"
     ]
    }
   ],
   "source": [
    "try:\n",
    "    with open('givenwords.txt', 'r') as file:\n",
    "        content = file.read()\n",
    "        print(content)\n",
    "except FileNotFoundError:\n",
    "    print(\"file not found\")"
   ]
  },
  {
   "cell_type": "code",
   "execution_count": 29,
   "id": "f5c70966",
   "metadata": {},
   "outputs": [],
   "source": [
    "class TextAnalyzer(object):\n",
    "    \n",
    "    def __init__(self, text):\n",
    "        \n",
    "         # remove punctuations\n",
    "        formattedText = text.replace(\",\", \"\").replace(\".\", \"\")\n",
    "        \n",
    "        # convert to lowercase\n",
    "        formattedText = formattedText.lower()\n",
    "        \n",
    "        self.fmtText = formattedText\n",
    "        \n",
    "    # get the frequency of all words\n",
    "    def freqAll(self):\n",
    "        # split the words\n",
    "        wordsCount = self.fmtText.split(' ')\n",
    "        \n",
    "        # save and count split words in dictionary\n",
    "        wordsDict = {}\n",
    "        for word in set(wordsCount):\n",
    "            wordsDict[word] = wordsCount.count(word)\n",
    "        \n",
    "        return wordsDict\n",
    "    \n",
    "    # get the frequency of a particular word\n",
    "    def freqOf(self, word):\n",
    "        wordsDict = self.freqAll()\n",
    "        if word in wordsDict:\n",
    "            return wordsDict[word]\n",
    "        else:\n",
    "            return 0\n",
    "        \n",
    "    "
   ]
  },
  {
   "cell_type": "code",
   "execution_count": 53,
   "id": "a059b333",
   "metadata": {},
   "outputs": [
    {
     "name": "stdout",
     "output_type": "stream",
     "text": [
      "heavy sketch body is heavy prison glue fashion guilt turtle print fashionista garage man donates heavy amount of music gesture\n",
      "{'prison': 1, 'heavy': 3, 'glue': 1, 'amount': 1, 'gesture': 1, 'sketch': 1, 'print': 1, 'garage': 1, 'turtle': 1, 'of': 1, 'is': 1, 'music': 1, 'donates': 1, 'fashion': 1, 'man': 1, 'guilt': 1, 'body': 1, 'fashionista': 1}\n",
      "The word  heavy  appeared  3  times.\n"
     ]
    }
   ],
   "source": [
    "try:\n",
    "    analyzed = TextAnalyzer(content)\n",
    "    print(analyzed.fmtText)\n",
    "    frequency = analyzed.freqAll()\n",
    "    print(frequency)\n",
    "    word = \"heavy\"\n",
    "    print(\"The word \",word,\" appeared \",analyzed.freqOf(word),\" times.\")\n",
    "except NameError:\n",
    "    print(\"name is not defined\")"
   ]
  },
  {
   "cell_type": "code",
   "execution_count": null,
   "id": "7ec26a8d",
   "metadata": {},
   "outputs": [],
   "source": []
  }
 ],
 "metadata": {
  "kernelspec": {
   "display_name": "Python 3 (ipykernel)",
   "language": "python",
   "name": "python3"
  },
  "language_info": {
   "codemirror_mode": {
    "name": "ipython",
    "version": 3
   },
   "file_extension": ".py",
   "mimetype": "text/x-python",
   "name": "python",
   "nbconvert_exporter": "python",
   "pygments_lexer": "ipython3",
   "version": "3.11.3"
  }
 },
 "nbformat": 4,
 "nbformat_minor": 5
}
